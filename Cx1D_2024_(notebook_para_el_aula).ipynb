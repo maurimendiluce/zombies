{
  "cells": [
    {
      "cell_type": "markdown",
      "metadata": {
        "id": "view-in-github",
        "colab_type": "text"
      },
      "source": [
        "<a href=\"https://colab.research.google.com/github/maurimendiluce/zombies/blob/main/Cx1D_2024_(notebook_para_el_aula).ipynb\" target=\"_parent\"><img src=\"https://colab.research.google.com/assets/colab-badge.svg\" alt=\"Open In Colab\"/></a>"
      ]
    },
    {
      "cell_type": "markdown",
      "metadata": {
        "id": "QFNMc2UuJ-Gt"
      },
      "source": [
        "# **Modelando una invasión zombie**\n",
        "\n",
        "\n",
        "\n",
        "\n"
      ]
    },
    {
      "cell_type": "markdown",
      "metadata": {
        "id": "1hSsIJqJJ-Gt"
      },
      "source": [
        "# Guía de trabajo"
      ]
    },
    {
      "cell_type": "markdown",
      "metadata": {
        "id": "MTaahcYt-aeh"
      },
      "source": [
        "<h2> Primera Parte</h2>"
      ]
    },
    {
      "cell_type": "markdown",
      "metadata": {
        "id": "Zd1c6Tsdv_gX"
      },
      "source": [
        "Supongamos que todos los humanos vivimos en un edificio y salimos todos juntos. Pero cada vez que salimos, se infecta <font color=\"blue\">la décima parte</font> del grupo:\n",
        " $$\\begin{array}{cccc}\n",
        "   h_0 & \\phantom{aa} & h_1=h_0-\\frac{h_0}{10} & \\dots \\\\\n",
        "   t=0 & \\phantom{aa} & t=1 & \\dots \\\\\n",
        "  \\end{array}$$\n",
        "\n",
        " ¿Cuántos humanos somos a tiempo $n$ con respecto a lo que había al principio?\n",
        "\n",
        "$$ \\begin{array}{rcl}        \n",
        "       h_{n+1}&=&h_{n}-\\frac{1}{10}h_n \\\\\n",
        "         &=& \\bigg(\\frac{9}{10}\\bigg) h_{n}\n",
        "   \\end{array}$$\n",
        "\n",
        "También lo podemos expresar en función de los que había inicialmente\n",
        "     \n",
        "         \n",
        "  $$ \\begin{array}{rcl}        \n",
        "       h_{n+1}&=&\\bigg(\\frac{9}{10}\\bigg) h_n = \\bigg(\\frac{9}{10}\\bigg)\\bigg(\\frac{9}{10}\\bigg) h_{n-1} \\\\\n",
        "         &=& \\bigg(\\frac{9}{10}\\bigg)^2 h_{n-1} \\\\\n",
        "         &=& \\dots  \\\\\n",
        "         &=& \\bigg(\\frac{9}{10}\\bigg)^{n+1} h_0\n",
        "   \\end{array}$$\n",
        "\n",
        " ¿Cómo será el gráfico de la cantidad de humanos en función del tiempo?\n",
        "\n",
        "\n",
        "\n",
        "\n"
      ]
    },
    {
      "cell_type": "code",
      "execution_count": null,
      "metadata": {
        "id": "CK9ScfiQccmT"
      },
      "outputs": [],
      "source": [
        "import numpy as np\n",
        "import matplotlib.pyplot as plt"
      ]
    },
    {
      "cell_type": "code",
      "execution_count": null,
      "metadata": {
        "id": "iuWRqY2LccmU"
      },
      "outputs": [],
      "source": [
        "# Definimos a cuántos años queremos ver la evolución\n",
        "N=30\n",
        "h= np.zeros(N)\n",
        "# Vamos a guardar la cantidad de humanos que hay cada año. En principio, tenemos sólo los del primer año.\n",
        "h[0] = 1000\n",
        "for i in range(0,N-1):\n",
        "    h[i+1]=9/10*h[i]\n",
        "# Graficamos:\n",
        "plt.plot(h,'o') #grafica circulitos.\n",
        "plt.xlabel('años')\n",
        "plt.ylabel('cantidad')\n",
        "plt.title('Humanos en el tiempo')\n",
        "plt.show()"
      ]
    },
    {
      "cell_type": "markdown",
      "metadata": {
        "id": "L7poUO2LyZzX"
      },
      "source": [
        "Pensemos ahora en la cantidad de zombis que, cada vez que salen los humanos, aumenta (porque los humanos se convierten en zombis). Supongamos que estamos en un caso donde, cada vez que salen los humanos, la cantidad de zombis aumenta en <font color=\"blue\">un décimo</font>:\n",
        "$$\\begin{array}{cccc}\n",
        "   z_0 & \\phantom{aa} & z_1=z_0+\\dfrac{z_0}{10} & \\dots \\\\\n",
        "   t=0 & \\phantom{aa} & t=1 & \\dots \\\\\n",
        "  \\end{array}$$\n",
        " ¿Cuántos zombis hay a tiempo $n$ con respecto a lo que había al principio? Razonamos como antes:\n",
        "\n",
        " $$z_{n+1} = z_n+\\frac{1}{10}z_n = \\Big(\\frac{11}{10}\\Big)z_n = \\dots = \\Big(\\frac{11}{10}\\Big)^{n+1} z_0 $$\n",
        "\n",
        " ¿Cómo sería un gráfico de la cantidad de zombis en función del tiempo?"
      ]
    },
    {
      "cell_type": "code",
      "execution_count": null,
      "metadata": {
        "id": "BUmnZsObccmX"
      },
      "outputs": [],
      "source": [
        "# Definimos a cuántos años queremos ver la evolución\n",
        "N= #completar\n",
        "z= np.zeros(N)\n",
        "# Vamos a guardar la cantidad de zombis que hay cada año. En principio, tenemos sólo los del primer año.\n",
        "z[0] = #completar\n",
        "for i in range(0,N-1):\n",
        "    #completar\n",
        "\n",
        "\n",
        "# Graficamos:\n",
        "plt.plot(z,'*') #grafica estrellass.\n",
        "plt.xlabel('años')\n",
        "plt.ylabel('cantidad')\n",
        "plt.title('Zombis en el tiempo')\n",
        "plt.show()"
      ]
    },
    {
      "cell_type": "code",
      "execution_count": null,
      "metadata": {
        "id": "POMzPFM3ccmZ"
      },
      "outputs": [],
      "source": [
        "plt.plot(h,'o',label=\"Humanos\")\n",
        "plt.plot(z,'*',label=\"Zombis\")\n",
        "plt.legend()\n",
        "plt.show()"
      ]
    },
    {
      "cell_type": "markdown",
      "metadata": {
        "id": "eURX0vEwccmc"
      },
      "source": [
        "¿Cuántos humanos y cuantos zombis habrá en 15 años según este modelo?\n"
      ]
    },
    {
      "cell_type": "code",
      "execution_count": null,
      "metadata": {
        "colab": {
          "base_uri": "https://localhost:8080/"
        },
        "id": "f7liSjlgccmc",
        "outputId": "e5c0a4ce-637d-4cea-cb80-ac965f00d700"
      },
      "outputs": [
        {
          "name": "stdout",
          "output_type": "stream",
          "text": [
            "205.8911320946491 41.77248169415655\n"
          ]
        }
      ],
      "source": [
        "#completar"
      ]
    },
    {
      "cell_type": "markdown",
      "metadata": {
        "id": "PE7u-BJfyKNy"
      },
      "source": [
        "Conclusión, en cada caso tenemos que:\n",
        "$$h_{n}=\\alpha^n h_0, \\hspace{2cm} z_{n}=\\beta^n z_0.$$\n",
        "para ciertos valores de $\\alpha$ y $\\beta$,  \n",
        "\n",
        "¿Qué podemos deducir un comportamiento cuando el tiempo $n$ se hace cada vez más grande?\n",
        "\n"
      ]
    },
    {
      "cell_type": "markdown",
      "metadata": {
        "id": "gGuAEKkMccme"
      },
      "source": [
        "<h4>Observar cómo varía el comportamineto dependiendo de los valores de $\\alpha$ y $\\beta$ <h4>"
      ]
    },
    {
      "cell_type": "markdown",
      "metadata": {
        "id": "w5tw0fS9-bao"
      },
      "source": [
        "\n",
        "---\n",
        "\n",
        "\n",
        "\n",
        "---\n",
        "\n"
      ]
    },
    {
      "cell_type": "markdown",
      "metadata": {
        "id": "fVX9heGGJ-Gu"
      },
      "source": [
        "\n",
        "<h3>Competencia entre especies</h3>\n"
      ]
    },
    {
      "cell_type": "markdown",
      "metadata": {
        "id": "slb3NxgMqyFh"
      },
      "source": [
        "1.   Pero la cantidad de zombis y la cantidad de humanos dependen una de la otra. Empecemos suponiendo simplemente que la cantidad de zombis aumenta proporcionalmente a la cantidad de humanos.\n",
        "\n",
        "¿Cómo sería el modelo?\n",
        "\n",
        "¿Cómo es la evolución de las poblaciones si, por ejemplo, $h_0=1000$, $z_0=10$, $\\alpha = 0.1$, $\\beta=0.02$?"
      ]
    },
    {
      "cell_type": "code",
      "execution_count": null,
      "metadata": {
        "id": "XZJz8bwcrxad"
      },
      "outputs": [],
      "source": [
        "h[0]    = #completar\n",
        "z[0]    = #completar\n",
        "alfa = #completar\n",
        "beta = #completar\n",
        "for i in range(0,N-1):\n",
        "    #completar\n",
        "\n",
        "\n",
        "plt.plot(h,'o')\n",
        "plt.plot(z,'*')\n",
        "plt.legend(['Humanos','Zombis'])\n",
        "# plt.savefig(\"Humanos_versus_Zombis_M1.jpg\")\n",
        "plt.show()"
      ]
    },
    {
      "cell_type": "markdown",
      "metadata": {
        "id": "CDycHCTSV6MW"
      },
      "source": [
        "2.   ¡Tengamos en cuenta la interacción de humanos y zombis y la capacidad de los humanos para defenderse y de los zombis para infectar!\n",
        "\n",
        "$\\alpha=$ efectividad con que los zombis contagian a los humanos.\n",
        "\n",
        " $\\beta=$ efectividad con que los humanos matan a los zombis.\n",
        "\n",
        "¿Cuál sería el modelo ahora?\n",
        "\n",
        "Probamos con $h_0=1000$, $z_0=10$, $\\alpha=0.003$ y $\\beta=0.001$\n",
        "<br>¿Qué ocurre con la cantidad total de individuos (humanos + zombis)?\n",
        "<br>¿Y si se invierten los valores de $\\alpha$ y $\\beta$?"
      ]
    },
    {
      "cell_type": "code",
      "execution_count": null,
      "metadata": {
        "id": "iLylR14vb47D"
      },
      "outputs": [],
      "source": [
        "M=15\n",
        "h= np.zeros(M)\n",
        "z= np.zeros(M)\n",
        "h[0] = #completar\n",
        "z[0] = #completar\n",
        "alfa = #completar\n",
        "beta = #completar\n",
        "for i in range(0,M-1):\n",
        "    #completar\n",
        "\n",
        "\n",
        "plt.plot(h,'o')\n",
        "plt.plot(z,'*')\n",
        "plt.legend(['Humanos','Zombis'])\n",
        "plt.show()\n",
        "\n",
        "print(h[M-1]+z[M-1])\n"
      ]
    },
    {
      "cell_type": "markdown",
      "metadata": {
        "id": "CXRTioDo-7np"
      },
      "source": [
        "\n",
        "---\n",
        "\n",
        "\n",
        "\n",
        "---\n",
        "\n"
      ]
    },
    {
      "cell_type": "markdown",
      "metadata": {
        "id": "_ZjUSbDbDTiJ"
      },
      "source": [
        "<h2> Segunda Parte</h2>"
      ]
    },
    {
      "cell_type": "markdown",
      "metadata": {
        "id": "pSLwRTZBWyd9"
      },
      "source": [
        "3.  Veamos un modelo más complejo. Consideremos lo siguiente:\n",
        "\n",
        "  *   Los humanos nacemos proporcionalmente a nuestra población (tasa de natalidad TN).\n",
        "  *   Para que un humano se convierta en zombi, se tiene que encontrar un humano con un zombi, tiene que haber interacción y hay una tasa de efectividad $a$ con la que los zombis logran contagiar a los humanos.\n",
        "  *   Los humanos morimos por causas ajenas a los zombis proporcionalmente a nuestra población (tasa de mortalidad TM).\n",
        "  *   Los zombis no se reproducen ni mueren por causas naturales.\n",
        "  *   Los zombis pueden morir cuando hay encuentro con humanos porque los humanos los matamos con una tasa de efectividad $b$.\n",
        "\n",
        "¿Cómo quedan las ecuaciones ahora?\n"
      ]
    },
    {
      "cell_type": "code",
      "execution_count": null,
      "metadata": {
        "id": "GTs-drLmJ-Gv"
      },
      "outputs": [],
      "source": [
        "TN = 0.017\n",
        "TM = 0.008\n",
        "\n",
        "a = 0.002\n",
        "b = 0.001\n",
        "\n",
        "h0 = 1000\n",
        "z0 = 10\n",
        "h  = [h0]\n",
        "z  = [z0]\n",
        "\n",
        "tiempo_simulacion = 20\n",
        "\n",
        "for i in range(0,tiempo_simulacion):\n",
        "  #completar\n",
        "\n",
        "plt.plot(h,'.')\n",
        "plt.plot(z,'*')\n",
        "plt.title('Humanos y Zombis vs el tiempo')\n",
        "plt.xlabel('t')\n",
        "plt.ylabel('cantidad')\n",
        "plt.legend(['Humanos','Zombis'])\n",
        "plt.show()"
      ]
    },
    {
      "cell_type": "markdown",
      "metadata": {
        "id": "QFH-tdflIY6C"
      },
      "source": [
        "¿Qué ocurre si se modifican los parámetros? Por ejemplo, si se aumenta el valor de $b$ a $0.0015$? ¿y si $b=0.002$? ¿y si $b>a$?"
      ]
    },
    {
      "cell_type": "code",
      "execution_count": null,
      "metadata": {
        "id": "CnxZdpi_dkB4"
      },
      "outputs": [],
      "source": [
        "TN = 0.017\n",
        "TM = 0.008\n",
        "\n",
        "a = 0.002\n",
        "b = #completar\n",
        "\n",
        "h0 = 1000\n",
        "z0 = 10\n",
        "h  = [h0]\n",
        "z  = [z0]\n",
        "\n",
        "Tf=15 #Tiempo final\n",
        "for i in range(0,Tf-1):\n",
        "  #completar\n",
        "\n",
        "\n",
        "plt.plot(h,'.')\n",
        "plt.plot(z,'*')\n",
        "plt.title('Humanos y Zombis vs el tiempo')\n",
        "plt.xlabel('t')\n",
        "plt.ylabel('cantidad')\n",
        "plt.legend(['Humanos','Zombis'])\n",
        "plt.show()"
      ]
    },
    {
      "cell_type": "markdown",
      "metadata": {
        "id": "-A2DUH3lJ2H6"
      },
      "source": [
        "Probemos también qué ocurre si se deja $b=0.001$ pero se disminuye $a$, o se aumenta $TN$ o se disminuye $TM$."
      ]
    },
    {
      "cell_type": "markdown",
      "metadata": {
        "id": "i4Qh3Y5R0VcK"
      },
      "source": [
        "4. Se puede observar una dinámica interesante si contemplamos la posibilidad de que los zombis \"mueran\" por \"causas naturales\". Pensar como serían las ecuaciones en este caso:\n",
        "\n",
        "\n",
        "Probemos este modelo con $TN = 0.017$, $TM = 0.008$, $a = 0.002$, $b = 0.001$ y $c=0.99$ (proporcion de zombies que sobreviven) y con una cantidad más pareja de humanos y zombies."
      ]
    },
    {
      "cell_type": "code",
      "execution_count": null,
      "metadata": {
        "id": "Z0pPRIwD1-i-"
      },
      "outputs": [],
      "source": [
        "TN = 0.017\n",
        "TM = 0.008\n",
        "\n",
        "a = 0.002\n",
        "b = 0.001\n",
        "\n",
        "c = 0.99\n",
        "\n",
        "h0 = 20\n",
        "z0 = 10\n",
        "h  = [h0]\n",
        "z  = [z0]\n",
        "\n",
        "tiempo_simulacion = 2000\n",
        "\n",
        "for i in range(0,tiempo_simulacion):\n",
        "  #completar\n",
        "\n",
        "plt.plot(h,'.')\n",
        "plt.plot(z,'*')\n",
        "plt.title('Humanos y Zombis vs el tiempo')\n",
        "plt.xlabel('t')\n",
        "plt.ylabel('cantidad')\n",
        "plt.legend(['Humanos','Zombis'])\n",
        "plt.show()"
      ]
    },
    {
      "cell_type": "markdown",
      "metadata": {
        "id": "HRpC16IE982T"
      },
      "source": [
        "¿Qué se observa en el gráfico anterior? ¿Qué pasa con la cantidad de zombis y de humanos?\n",
        "\n",
        "En un caso como este es interesante también realizar el gráfico de las poblaciones una en función de la otra, sin mirar el tiempo. De la siguiente manera:"
      ]
    },
    {
      "cell_type": "code",
      "execution_count": null,
      "metadata": {
        "id": "hJiN5W_D-K_T"
      },
      "outputs": [],
      "source": [
        "plt.plot(h,z,'.')\n",
        "plt.title('Humanos vs Zombis')\n",
        "plt.xlabel('Humanos')\n",
        "plt.ylabel('Zombis')\n"
      ]
    },
    {
      "cell_type": "markdown",
      "metadata": {
        "id": "nIi9qxuS-W0-"
      },
      "source": [
        "¿Qué se puede interpretar de este gráfico?"
      ]
    },
    {
      "cell_type": "markdown",
      "metadata": {
        "id": "Nrx-k6YobKrd"
      },
      "source": [
        "<h2> Bonus </h2>"
      ]
    },
    {
      "cell_type": "markdown",
      "metadata": {
        "id": "q2SyqyXHIxvx"
      },
      "source": [
        "Para cerrar la parte de modelado matemático, consideremos el modelo para enfermedades infecciosas $SI$:\n",
        "$$\\left\\lbrace\\begin{array}{rcl}\n",
        "S_{n+1} & = & S_n+ TN(S_n+I_n)-m_1 S_n - a S_n I_n + b I_n\\\\\n",
        "I_{n+1} & = & I_n - m_2 I_n + a S_n I_n - b I_n\\\\\n",
        "\\end{array}\\right.$$\n",
        "Consideremos por ejemplo: $TN=0.17$, $m_1 = 0.08$, $a=0.0005$, $b=0.07$, $m_2 = 0.15$, con $S_0=1000$ e $I_0=5$."
      ]
    },
    {
      "cell_type": "code",
      "execution_count": null,
      "metadata": {
        "id": "oTPGZBaMMVBF"
      },
      "outputs": [],
      "source": [
        "TN  = 0.017\n",
        "m1 = 0.008\n",
        "\n",
        "a  = 0.0005\n",
        "b = 0.07\n",
        "m2  = 0.15\n",
        "\n",
        "S0  = 1000\n",
        "I0  = 5\n",
        "S   = [S0]\n",
        "I   = [I0]\n",
        "\n",
        "tiempo_simulacion  = 40\n",
        "for i in range(0,tiempo_simulacion):\n",
        "    S.append(max(S[i]+TN*(S[i]+I[i])-m1*S[i]-a*S[i]*I[i]+b*I[i],0));\n",
        "    I.append(max(I[i]+a*S[i]*I[i]-m2*I[i]-b*I[i],0));\n",
        "\n",
        "plt.plot(S,'.')\n",
        "plt.plot(I,'.')\n",
        "plt.hlines((b+m2)/a,xmin=0,xmax=40)\n",
        "plt.title('S e I vs el tiempo')\n",
        "plt.xlabel('t')\n",
        "plt.ylabel('cantidad')\n",
        "plt.legend(['S','I'])\n",
        "plt.show()"
      ]
    },
    {
      "cell_type": "code",
      "execution_count": null,
      "metadata": {
        "id": "7nvOge4VIIbA"
      },
      "outputs": [],
      "source": []
    }
  ],
  "metadata": {
    "colab": {
      "provenance": [],
      "include_colab_link": true
    },
    "kernelspec": {
      "display_name": "Python 3 (ipykernel)",
      "language": "python",
      "name": "python3"
    },
    "language_info": {
      "codemirror_mode": {
        "name": "ipython",
        "version": 3
      },
      "file_extension": ".py",
      "mimetype": "text/x-python",
      "name": "python",
      "nbconvert_exporter": "python",
      "pygments_lexer": "ipython3",
      "version": "3.12.7"
    }
  },
  "nbformat": 4,
  "nbformat_minor": 0
}